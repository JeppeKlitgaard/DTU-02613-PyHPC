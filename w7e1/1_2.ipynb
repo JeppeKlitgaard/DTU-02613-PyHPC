{
 "cells": [
  {
   "cell_type": "code",
   "execution_count": 9,
   "metadata": {},
   "outputs": [],
   "source": [
    "from pathlib import Path\n",
    "import pandas as pd\n"
   ]
  },
  {
   "cell_type": "code",
   "execution_count": 10,
   "metadata": {},
   "outputs": [],
   "source": [
    "CSV_PATH = Path(\"/dtu/projects/02613_2025/data/dmi/2023_01.csv.zip\")\n",
    "df = pd.read_csv(CSV_PATH)\n",
    "\n",
    "\n",
    "def summarize_columns(df):\n",
    "    print(\n",
    "        pd.DataFrame(\n",
    "            [\n",
    "                (\n",
    "                    c,\n",
    "                    df[c].dtype,\n",
    "                    len(df[c].unique()),\n",
    "                    df[c].memory_usage(deep=True) // (1024**2),\n",
    "                )\n",
    "                for c in df.columns\n",
    "            ],\n",
    "            columns=[\"name\", \"dtype\", \"unique\", \"size (MB)\"],\n",
    "        )\n",
    "    )\n",
    "    print(\"Total size:\", df.memory_usage(deep=True).sum() / 1024**2, \"MB\")\n"
   ]
  },
  {
   "cell_type": "code",
   "execution_count": 14,
   "metadata": {},
   "outputs": [],
   "source": [
    "dfs = df.head(1000000)"
   ]
  },
  {
   "cell_type": "code",
   "execution_count": 20,
   "metadata": {},
   "outputs": [
    {
     "name": "stdout",
     "output_type": "stream",
     "text": [
      "          name    dtype   unique  size (MB)\n",
      "0      coordsx  float64      224         62\n",
      "1      coordsy  float64      219         62\n",
      "2      created   object  8142495        590\n",
      "3     observed   object    44640        535\n",
      "4  parameterId   object       47        484\n",
      "5    stationId    int64      247         62\n",
      "6        value  float64    11532         62\n",
      "Total size: 1858.7288799285889 MB\n",
      "          name                dtype   unique  size (MB)\n",
      "0      coordsx              float64      224         62\n",
      "1      coordsy              float64      219         62\n",
      "2      created  datetime64[ns, UTC]  8142495         62\n",
      "3     observed  datetime64[ns, UTC]    44640         62\n",
      "4  parameterId             category       47          7\n",
      "5    stationId             category      247         15\n",
      "6        value              float64    11532         62\n",
      "Total size: 333.92120361328125 MB\n"
     ]
    }
   ],
   "source": [
    "def reduce_dmi_df(df):\n",
    "    df_out = df.copy()\n",
    "    df_out[\"created\"] = pd.to_datetime(df_out[\"created\"], format=\"ISO8601\")\n",
    "    df_out[\"observed\"] = pd.to_datetime(df_out[\"observed\"], format=\"ISO8601\")\n",
    "    df_out[\"parameterId\"] = df[\"parameterId\"].astype(\"category\")\n",
    "\n",
    "    return df_out\n",
    "\n",
    "summarize_columns(df)\n",
    "summarize_columns(reduce_dmi_df(df))"
   ]
  },
  {
   "cell_type": "code",
   "execution_count": 17,
   "metadata": {},
   "outputs": [
    {
     "data": {
      "text/plain": [
       "0    precip_past1min\n",
       "1    precip_past1min\n",
       "2    precip_past1min\n",
       "Name: parameterId, dtype: object"
      ]
     },
     "execution_count": 17,
     "metadata": {},
     "output_type": "execute_result"
    }
   ],
   "source": [
    "dfs[\"parameterId\"].head(3)"
   ]
  }
 ],
 "metadata": {
  "kernelspec": {
   "display_name": ".venv",
   "language": "python",
   "name": "python3"
  },
  "language_info": {
   "codemirror_mode": {
    "name": "ipython",
    "version": 3
   },
   "file_extension": ".py",
   "mimetype": "text/x-python",
   "name": "python",
   "nbconvert_exporter": "python",
   "pygments_lexer": "ipython3",
   "version": "3.13.2"
  }
 },
 "nbformat": 4,
 "nbformat_minor": 2
}
