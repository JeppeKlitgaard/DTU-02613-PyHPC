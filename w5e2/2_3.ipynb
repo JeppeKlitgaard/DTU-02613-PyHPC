{
 "cells": [
  {
   "cell_type": "code",
   "execution_count": 1,
   "metadata": {},
   "outputs": [],
   "source": [
    "# Given\n",
    "import random\n",
    "import multiprocessing\n",
    "\n",
    "def sample():\n",
    "    x = random.uniform(-1.0, 1.0)\n",
    "    y = random.uniform(-1.0, 1.0)\n",
    "    if x**2 + y**2 <= 1:\n",
    "        return 1\n",
    "    else:\n",
    "        return 0\n",
    "\n",
    "def sample_multiple(samples_partial):\n",
    "    return sum(sample() for i in range(samples_partial))\n",
    "\n",
    "# if __name__ == '__main__':\n",
    "#     samples = 1000000\n",
    "#     hits = 0\n",
    "\n",
    "#     n_proc = 10\n",
    "#     pool = multiprocessing.Pool(n_proc)\n",
    "#     results_async = [pool.apply_async(sample) for i in range(samples)]\n",
    "#     hits = sum(r.get() for r in results_async)\n",
    "#     pi = 4.0 * hits/samples\n",
    "\n"
   ]
  },
  {
   "cell_type": "code",
   "execution_count": 2,
   "metadata": {},
   "outputs": [],
   "source": [
    "from time import perf_counter as timer"
   ]
  },
  {
   "cell_type": "code",
   "execution_count": null,
   "metadata": {},
   "outputs": [],
   "source": [
    "def time_for_ncores(n_proc: int) -> float:\n",
    "    time_start = timer()\n",
    "\n",
    "    samples = 10\n",
    "    hits = 0\n",
    "    chunk_size = samples//n_proc\n",
    "\n",
    "    pool = multiprocessing.Pool(n_proc)\n",
    "    print(\"A\")\n",
    "    results_async = [pool.apply_async(sample_multiple, (chunk_size,))\n",
    "                    for i in range(n_proc)]\n",
    "    print(\"B\")\n",
    "    hits = sum(r.get() for r in results_async)\n",
    "    print(\"C\")\n",
    "    pi = 4.0 * hits/samples\n",
    "\n",
    "    return timer() - time_start\n",
    "\n"
   ]
  },
  {
   "cell_type": "code",
   "execution_count": null,
   "metadata": {},
   "outputs": [
    {
     "name": "stdout",
     "output_type": "stream",
     "text": [
      "A\n",
      "A\n"
     ]
    }
   ],
   "source": [
    "time_for_ncores(1)"
   ]
  },
  {
   "cell_type": "code",
   "execution_count": null,
   "metadata": {},
   "outputs": [
    {
     "name": "stdout",
     "output_type": "stream",
     "text": [
      "Testing 8 cores\n"
     ]
    }
   ],
   "source": [
    "times = []\n",
    "n_procs = list(range(1, 9))\n",
    "for n_proc in n_procs[::-1]:\n",
    "    print(f\"Testing {n_proc} cores\")\n",
    "    time = time_for_ncores(n_proc)\n",
    "    times.append(time_for_ncores(n_proc))\n",
    "    print(f\"Time for {n_proc} cores: {times[-1]}\")"
   ]
  }
 ],
 "metadata": {
  "kernelspec": {
   "display_name": ".venv",
   "language": "python",
   "name": "python3"
  },
  "language_info": {
   "codemirror_mode": {
    "name": "ipython",
    "version": 3
   },
   "file_extension": ".py",
   "mimetype": "text/x-python",
   "name": "python",
   "nbconvert_exporter": "python",
   "pygments_lexer": "ipython3",
   "version": "3.13.1"
  }
 },
 "nbformat": 4,
 "nbformat_minor": 2
}
