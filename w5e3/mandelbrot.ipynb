{
 "cells": [
  {
   "cell_type": "code",
   "execution_count": null,
   "metadata": {},
   "outputs": [
    {
     "data": {
      "text/plain": [
       "array([1., 1.])"
      ]
     },
     "execution_count": 10,
     "metadata": {},
     "output_type": "execute_result"
    }
   ],
   "source": [
    "import numpy as np\n",
    "\n",
    "\n",
    "def mandelbrot_escape_time(c):\n",
    "    z = 0\n",
    "    for i in range(100):\n",
    "        z = z**2 + c\n",
    "        if np.abs(z) > 2.0:\n",
    "            return i\n",
    "    return 100\n",
    "\n",
    "def chunker(points):\n",
    "    gen = (mandelbrot_escape_time(c) for c in points, count=len(points))\n",
    "    return np.fromiter(gen, dtype=np.float64)\n",
    "\n",
    "arr = np.array([1+1.5j, 0.5-1j])\n",
    "# mandelbrot_escape_time(arr)\n",
    "chunker(arr)"
   ]
  }
 ],
 "metadata": {
  "kernelspec": {
   "display_name": ".venv",
   "language": "python",
   "name": "python3"
  },
  "language_info": {
   "codemirror_mode": {
    "name": "ipython",
    "version": 3
   },
   "file_extension": ".py",
   "mimetype": "text/x-python",
   "name": "python",
   "nbconvert_exporter": "python",
   "pygments_lexer": "ipython3",
   "version": "3.13.2"
  }
 },
 "nbformat": 4,
 "nbformat_minor": 2
}
