{
 "cells": [
  {
   "cell_type": "code",
   "execution_count": 1,
   "metadata": {},
   "outputs": [],
   "source": [
    "import pandas as pd\n",
    "from pathlib import Path\n",
    "import seaborn as sns\n",
    "import lmfit"
   ]
  },
  {
   "cell_type": "code",
   "execution_count": null,
   "metadata": {},
   "outputs": [],
   "source": [
    "ROOT_PATH = Path().resolve()\n",
    "CSV_PATH = ROOT_PATH / \"3_2.csv\""
   ]
  },
  {
   "cell_type": "code",
   "execution_count": 3,
   "metadata": {},
   "outputs": [
    {
     "data": {
      "text/html": [
       "<div>\n",
       "<style scoped>\n",
       "    .dataframe tbody tr th:only-of-type {\n",
       "        vertical-align: middle;\n",
       "    }\n",
       "\n",
       "    .dataframe tbody tr th {\n",
       "        vertical-align: top;\n",
       "    }\n",
       "\n",
       "    .dataframe thead th {\n",
       "        text-align: right;\n",
       "    }\n",
       "</style>\n",
       "<table border=\"1\" class=\"dataframe\">\n",
       "  <thead>\n",
       "    <tr style=\"text-align: right;\">\n",
       "      <th></th>\n",
       "      <th>n_proc</th>\n",
       "      <th>time</th>\n",
       "    </tr>\n",
       "  </thead>\n",
       "  <tbody>\n",
       "    <tr>\n",
       "      <th>0</th>\n",
       "      <td>1</td>\n",
       "      <td>8.252</td>\n",
       "    </tr>\n",
       "    <tr>\n",
       "      <th>1</th>\n",
       "      <td>2</td>\n",
       "      <td>4.136</td>\n",
       "    </tr>\n",
       "    <tr>\n",
       "      <th>2</th>\n",
       "      <td>3</td>\n",
       "      <td>2.767</td>\n",
       "    </tr>\n",
       "  </tbody>\n",
       "</table>\n",
       "</div>"
      ],
      "text/plain": [
       "   n_proc   time\n",
       "0       1  8.252\n",
       "1       2  4.136\n",
       "2       3  2.767"
      ]
     },
     "execution_count": 3,
     "metadata": {},
     "output_type": "execute_result"
    }
   ],
   "source": [
    "df = pd.read_csv(CSV_PATH, sep=\"\\t\")\n",
    "df.head(3)"
   ]
  },
  {
   "cell_type": "code",
   "execution_count": 4,
   "metadata": {},
   "outputs": [],
   "source": [
    "df[\"speedup\"] = df[\"time\"].iloc[0] / df[\"time\"]"
   ]
  },
  {
   "cell_type": "code",
   "execution_count": 10,
   "metadata": {},
   "outputs": [
    {
     "data": {
      "text/html": [
       "<h2>Fit Result</h2> <p>Model: Model(T_p)</p> <table class=\"jp-toc-ignore\"><caption class=\"jp-toc-ignore\">Fit Statistics</caption><tr><td style='text-align:left'>fitting method</td><td style='text-align:right'>leastsq</td></tr><tr><td style='text-align:left'># function evals</td><td style='text-align:right'>37</td></tr><tr><td style='text-align:left'># data points</td><td style='text-align:right'>16</td></tr><tr><td style='text-align:left'># variables</td><td style='text-align:right'>1</td></tr><tr><td style='text-align:left'>chi-square</td><td style='text-align:right'> 3.5350e-04</td></tr><tr><td style='text-align:left'>reduced chi-square</td><td style='text-align:right'> 2.3567e-05</td></tr><tr><td style='text-align:left'>Akaike info crit.</td><td style='text-align:right'>-169.523400</td></tr><tr><td style='text-align:left'>Bayesian info crit.</td><td style='text-align:right'>-168.750811</td></tr><tr><td style='text-align:left'>R-squared</td><td style='text-align:right'> 0.99999397</td></tr></table><table class=\"jp-toc-ignore\"><caption>Parameters</caption><tr><th style='text-align:left'>name</th><th style='text-align:left'>value</th><th style='text-align:left'>standard error</th><th style='text-align:left'>relative error</th><th style='text-align:left'>initial value</th><th style='text-align:left'>min</th><th style='text-align:left'>max</th><th style='text-align:right'>vary</th></tr><tr><td style='text-align:left'>T_1</td><td style='text-align:left'> 8.25200000</td><td style='text-align:left'> 0.00000000</td><td style='text-align:left'>(0.00%)</td><td style='text-align:left'>8.252</td><td style='text-align:left'>       -inf</td><td style='text-align:left'>        inf</td><td style='text-align:right'>False</td></tr><tr><td style='text-align:left'>F</td><td style='text-align:left'> 0.99560512</td><td style='text-align:left'> 1.7881e-04</td><td style='text-align:left'>(0.02%)</td><td style='text-align:left'>1.0</td><td style='text-align:left'> 0.00000000</td><td style='text-align:left'> 1.00000000</td><td style='text-align:right'>True</td></tr></table>"
      ],
      "text/plain": [
       "<lmfit.model.ModelResult at 0x7f35e292fc50>"
      ]
     },
     "execution_count": 10,
     "metadata": {},
     "output_type": "execute_result"
    }
   ],
   "source": [
    "def T_p(p, T_1, F):\n",
    "    return (1-F) * T_1 + F * T_1 / p\n",
    "\n",
    "model = lmfit.Model(T_p)\n",
    "params = model.make_params()\n",
    "params[\"T_1\"].set(value=df[\"time\"].iloc[0], vary=False)\n",
    "params[\"F\"].set(value=1.0, min=0.0, max=1.0)\n",
    "fit = model.fit(df[\"time\"], params, p=df[\"n_proc\"])\n",
    "fit"
   ]
  },
  {
   "cell_type": "code",
   "execution_count": 14,
   "metadata": {},
   "outputs": [
    {
     "data": {
      "text/plain": [
       "np.float64(227.5372821244067)"
      ]
     },
     "execution_count": 14,
     "metadata": {},
     "output_type": "execute_result"
    }
   ],
   "source": [
    "F = fit.params[\"F\"].value\n",
    "max_speedup = 1 / (1-F)\n",
    "max_speedup"
   ]
  },
  {
   "cell_type": "code",
   "execution_count": null,
   "metadata": {},
   "outputs": [],
   "source": [
    "dfm = pd.melt(df, id_vars=[\"n_proc\"], value_vars=[\"time\", \"speedup\"])"
   ]
  },
  {
   "cell_type": "code",
   "execution_count": null,
   "metadata": {},
   "outputs": [
    {
     "data": {
      "text/plain": [
       "<Axes: xlabel='n_proc', ylabel='value'>"
      ]
     },
     "execution_count": 21,
     "metadata": {},
     "output_type": "execute_result"
    },
    {
     "data": {
      "image/png": "[encoded data removed]",
      "text/plain": [
       "<Figure size 640x480 with 1 Axes>"
      ]
     },
     "metadata": {},
     "output_type": "display_data"
    }
   ],
   "source": [
    "sns.lineplot(dfm, x=\"n_proc\", y=\"value\", hue=\"variable\")"
   ]
  },
  {
   "cell_type": "code",
   "execution_count": null,
   "metadata": {},
   "outputs": [],
   "source": [
    "sns.lineplot(df, x=\"n_proc\", y=\"time\")"
   ]
  }
 ],
 "metadata": {
  "kernelspec": {
   "display_name": ".venv",
   "language": "python",
   "name": "python3"
  },
  "language_info": {
   "codemirror_mode": {
    "name": "ipython",
    "version": 3
   },
   "file_extension": ".py",
   "mimetype": "text/x-python",
   "name": "python",
   "nbconvert_exporter": "python",
   "pygments_lexer": "ipython3",
   "version": "3.13.2"
  }
 },
 "nbformat": 4,
 "nbformat_minor": 2
}
